{
 "cells": [
  {
   "cell_type": "code",
   "execution_count": 1,
   "metadata": {},
   "outputs": [
    {
     "name": "stderr",
     "output_type": "stream",
     "text": [
      "C:\\Users\\ogni\\Anaconda3\\lib\\site-packages\\numpy\\_distributor_init.py:32: UserWarning: loaded more than 1 DLL from .libs:\n",
      "C:\\Users\\ogni\\Anaconda3\\lib\\site-packages\\numpy\\.libs\\libopenblas.NOIJJG62EMASZI6NYURL6JBKM4EVBGM7.gfortran-win_amd64.dll\n",
      "C:\\Users\\ogni\\Anaconda3\\lib\\site-packages\\numpy\\.libs\\libopenblas.PYQHXLVVQ7VESDPUVUADXEVJOBGHJPAY.gfortran-win_amd64.dll\n",
      "  stacklevel=1)\n"
     ]
    }
   ],
   "source": [
    "import alpaca_trade_api as tradeapi\n",
    "import pandas as pd\n",
    "import numpy as np\n",
    "import statsmodels.tsa.stattools as sm\n",
    "from scipy.stats import shapiro, pearsonr\n",
    "from pykalman import KalmanFilter\n",
    "import math\n",
    "from scipy.stats import linregress\n",
    "import itertools\n",
    "from matplotlib import pyplot as plt\n",
    "import scipy"
   ]
  },
  {
   "cell_type": "code",
   "execution_count": 21,
   "metadata": {},
   "outputs": [],
   "source": [
    "stock_1 = 'GM'\n",
    "stock_2 = 'F'\n",
    "\n",
    "NY = 'America/New_York'\n",
    "\n",
    "#must be <150 days apart\n",
    "start_input = '2012-1-1 9:30'\n",
    "end_input = '2012-7-1 16:00'\n",
    "\n",
    "HEDGE_LOOKBACK = 21\n",
    "MIN_WEIGHT = 0.2\n",
    "DESIRED_PVALUE = 0.01"
   ]
  },
  {
   "cell_type": "code",
   "execution_count": 22,
   "metadata": {},
   "outputs": [],
   "source": [
    "API = tradeapi.REST(\n",
    " base_url=\"https://paper-api.alpaca.markets\",\n",
    " key_id=\"PKSL6HFOBBRWI3ZYB3CE\",\n",
    " secret_key=\"oFil1E/0DN1WTatQMGoo6YahQXudVRED9t6dBNbV\"\n",
    ")\n",
    "\n",
    "start_date=pd.Timestamp(start_input, tz=NY).isoformat()\n",
    "end_date=pd.Timestamp(end_input, tz=NY).isoformat()\n",
    "\n",
    "s1_data = API.get_barset([stock_1], 'day', start=start_date, end=end_date).df\n",
    "s1_price = s1_data[stock_1]['close'].values.tolist()\n",
    "\n",
    "s2_data = API.get_barset([stock_2], 'day', start=start_date, end=end_date).df\n",
    "s2_price = s2_data[stock_2]['close'].values.tolist()"
   ]
  },
  {
   "cell_type": "code",
   "execution_count": 23,
   "metadata": {
    "scrolled": false
   },
   "outputs": [
    {
     "data": {
      "text/plain": [
       "[<matplotlib.lines.Line2D at 0x18e546c1be0>]"
      ]
     },
     "execution_count": 23,
     "metadata": {},
     "output_type": "execute_result"
    },
    {
     "data": {
      "image/png": "[encoded data removed]",
      "text/plain": [
       "<Figure size 432x288 with 1 Axes>"
      ]
     },
     "metadata": {
      "needs_background": "light"
     },
     "output_type": "display_data"
    }
   ],
   "source": [
    "def linreg(s1,s2):\n",
    "    try:\n",
    "        slope, intercept, rvalue, pvalue, stderr = linregress(s1,s2)\n",
    "    except:\n",
    "        try:\n",
    "            print('polyfit')\n",
    "            reg = np.polynomial.polynomial.polyfit(s1,s2)\n",
    "            slope = reg[1]\n",
    "            intercept = reg[0]\n",
    "        except:\n",
    "            try:\n",
    "                print('sm')\n",
    "                s1 = sm.add_constant(s1)\n",
    "                model = sm.OLS(s2, s1).fit()\n",
    "                intercept = model.params[0]\n",
    "                slope = model.params[1]\n",
    "            except:\n",
    "                print('Linear Regression Failed')\n",
    "                slope = float('NaN')\n",
    "                intercept = float('NaN')\n",
    "    return slope, intercept\n",
    "\n",
    "def get_spreads(s1_price, s2_price):\n",
    "    length = len(s1_price)-(2*HEDGE_LOOKBACK)\n",
    "    residuals = []\n",
    "    zscores = []\n",
    "    for i in range(1, HEDGE_LOOKBACK):\n",
    "        start_index = len(s1_price) - length - HEDGE_LOOKBACK + i\n",
    "        hedge, intercept = linreg(s2_price[start_index-HEDGE_LOOKBACK:start_index], \n",
    "                                  s1_price[start_index-HEDGE_LOOKBACK:start_index])\n",
    "        residuals = np.append(residuals, s1_price[i] - hedge*s2_price[i] + intercept)\n",
    "        \n",
    "    for i in range(length):\n",
    "        start_index = len(s1_price) - length + i\n",
    "        hedge, intercept = linreg(s2_price[start_index-HEDGE_LOOKBACK:start_index], \n",
    "                                  s1_price[start_index-HEDGE_LOOKBACK:start_index])\n",
    "        current_residual = s1_price[i] - hedge*s2_price[i] + intercept\n",
    "        residuals = np.append(residuals, current_residual)\n",
    "        std = np.std(residuals[-HEDGE_LOOKBACK:])\n",
    "        zscores = np.append(zscores, current_residual/std)\n",
    "    return zscores\n",
    "\n",
    "def run_kalman_smooth(price_history):\n",
    "    kf_stock = KalmanFilter(transition_matrices = [1], observation_matrices = [1], initial_state_mean = price_history[0], \n",
    "                            initial_state_covariance = 1, observation_covariance=1, transition_covariance=.05)\n",
    "    return kf_stock.smooth(price_history)[0].flatten()\n",
    "\n",
    "def run_kalman_filter(price_history):\n",
    "    kf_stock = KalmanFilter(transition_matrices = [1], observation_matrices = [1], initial_state_mean = price_history[0], \n",
    "                            initial_state_covariance = 1, observation_covariance=1, transition_covariance=.05)\n",
    "    return kf_stock.filter(price_history)[0].flatten()\n",
    "\n",
    "s1_price_s = run_kalman_smooth(s1_price)\n",
    "s2_price_s = run_kalman_smooth(s2_price)\n",
    "\n",
    "s1_price_f = run_kalman_filter(s1_price)\n",
    "s2_price_f = run_kalman_filter(s2_price)\n",
    "\n",
    "spreads_s = get_spreads(s1_price_s,s2_price_s)\n",
    "spreads_f = get_spreads(s1_price_f,s2_price_f)\n",
    "spreads = get_spreads(s1_price,s2_price)\n",
    "\n",
    "plt.plot(spreads)\n",
    "plt.plot(spreads_s)\n",
    "plt.plot(spreads_f)"
   ]
  },
  {
   "cell_type": "code",
   "execution_count": 24,
   "metadata": {},
   "outputs": [
    {
     "data": {
      "text/plain": [
       "[<matplotlib.lines.Line2D at 0x18e54687828>]"
      ]
     },
     "execution_count": 24,
     "metadata": {},
     "output_type": "execute_result"
    },
    {
     "data": {
      "image/png": "[encoded data removed]",
      "text/plain": [
       "<Figure size 432x288 with 1 Axes>"
      ]
     },
     "metadata": {
      "needs_background": "light"
     },
     "output_type": "display_data"
    }
   ],
   "source": [
    "s1_perc = [(val-s1_price[0])/s1_price[0] for val in s1_price]\n",
    "s2_perc = [(val-s2_price[0])/s2_price[0] for val in s2_price]\n",
    "plt.plot(s1_perc)\n",
    "plt.plot(s2_perc)"
   ]
  },
  {
   "cell_type": "code",
   "execution_count": 25,
   "metadata": {},
   "outputs": [
    {
     "name": "stdout",
     "output_type": "stream",
     "text": [
      "Correlation 0.9334244414656492\n",
      "Cointegration 0.023057251615543083\n",
      "ADF 0.36789331545099213\n",
      "Hurst 0.6550027813340713\n",
      "Half Life 2.0993437728497173\n",
      "Shapiro Wilk 0.00014220364391803741\n",
      "Alpha 1.836396146870008\n",
      "ADF-Prices 0.9477487131471821\n"
     ]
    }
   ],
   "source": [
    "def correlation1(a,b):\n",
    "    r, p = pearsonr(a,b)\n",
    "    if p<DESIRED_PVALUE:\n",
    "        return r\n",
    "    else:\n",
    "        return float('NaN')\n",
    "    return r\n",
    "\n",
    "def cointegration1(a, b):\n",
    "    score, pvalue, _ = sm.coint(a, b)\n",
    "    return pvalue\n",
    "\n",
    "def adf_pvalue1(spreads, s1_price, s2_price):\n",
    "    if min(sm.adfuller(s1_price,autolag=\"t-stat\")[1], sm.adfuller(s2_price,autolag=\"t-stat\")[1])>DESIRED_PVALUE:\n",
    "        return sm.adfuller(spreads,autolag=\"t-stat\")[1]\n",
    "    else:\n",
    "        return float('NaN')\n",
    "\n",
    "def hurst_hvalue1(series):\n",
    "    max_window = len(series)-1\n",
    "    min_window = 10\n",
    "    window_sizes = list(map(lambda x: int(10**x),np.arange(math.log10(min_window), math.log10(max_window), 0.25)))\n",
    "    window_sizes.append(len(series))\n",
    "    RS = []\n",
    "    for w in window_sizes:\n",
    "        rs = []\n",
    "        for start in range(0, len(series), w):\n",
    "            if (start+w)>len(series):\n",
    "                break\n",
    "            incs = series[start:start+w][1:] - series[start:start+w][:-1]\n",
    "\n",
    "#             # SIMPLIFIED\n",
    "#             R = max(series[start:start+w]) - min(series[start:start+w])  # range in absolute values\n",
    "#             S = np.std(incs, ddof=1) \n",
    "\n",
    "            #NOT SIMPLIFIED\n",
    "            mean_inc = (series[start:start+w][-1] - series[start:start+w][0]) / len(incs)\n",
    "            deviations = incs - mean_inc\n",
    "            Z = np.cumsum(deviations)\n",
    "            R = max(Z) - min(Z)\n",
    "            S = np.std(incs, ddof=1)\n",
    "\n",
    "            if R != 0 and S != 0:\n",
    "                rs.append(R/S)\n",
    "        RS.append(np.mean(rs))\n",
    "    A = np.vstack([np.log10(window_sizes), np.ones(len(RS))]).T\n",
    "    H, c = np.linalg.lstsq(A, np.log10(RS), rcond=-1)[0]\n",
    "    return H\n",
    "\n",
    "def half_life1(spreads): \n",
    "    spreads = spreads[-HEDGE_LOOKBACK::]\n",
    "    lag = np.roll(spreads, 1)\n",
    "    ret = spreads - lag\n",
    "    return(-np.log(2) / linregress(lag, ret).slope)\n",
    "\n",
    "def shapiro_pvalue1(spreads):\n",
    "    w, p = shapiro(spreads)\n",
    "    return p\n",
    "\n",
    "def zscore1(spreads):\n",
    "    return spreads\n",
    "\n",
    "def alpha1(price1, price2):\n",
    "    slope, intercept, rvalue, pvalue, stderr = linregress(price2, price1)\n",
    "    y_target_shares = 1\n",
    "    x_target_shares = -slope\n",
    "    notionalDol =  abs(y_target_shares * price1[-1]) + abs(x_target_shares * price2[-1])\n",
    "    (y_target_pct, x_target_pct) = (y_target_shares * price1[-1] / notionalDol, x_target_shares * price2[-1] / notionalDol)\n",
    "    if (abs(x_target_pct) > MIN_WEIGHT) and (abs(y_target_pct) > MIN_WEIGHT) and (pvalue<DESIRED_PVALUE):\n",
    "        return slope\n",
    "    else:\n",
    "        return float('NaN')\n",
    "\n",
    "def adf_prices1(s1_price, s2_price):\n",
    "    p1 = sm.adfuller(s1_price,autolag=\"t-stat\")[1]\n",
    "    p2 = sm.adfuller(s2_price,autolag=\"t-stat\")[1]\n",
    "    return min(p1,p2)\n",
    "\n",
    "correlation = correlation1(s1_price, s2_price)\n",
    "cointegration = cointegration1(s1_price, s2_price)\n",
    "adf_pvalue = adf_pvalue1(spreads, s1_price, s2_price)\n",
    "hurst_hvalue = hurst_hvalue1(spreads)\n",
    "half_life = half_life1(spreads)\n",
    "shapiro_pvalue = shapiro_pvalue1(spreads)\n",
    "alpha = alpha1(s1_price, s2_price)\n",
    "adf_prices=adf_prices1(s1_price, s2_price)\n",
    "\n",
    "print('Correlation',correlation)\n",
    "print('Cointegration',cointegration)\n",
    "print('ADF', adf_pvalue)\n",
    "print('Hurst', hurst_hvalue)\n",
    "print('Half Life', half_life)\n",
    "print('Shapiro Wilk',shapiro_pvalue)\n",
    "print('Alpha',alpha)\n",
    "print('ADF-Prices',adf_prices)"
   ]
  },
  {
   "cell_type": "code",
   "execution_count": 26,
   "metadata": {},
   "outputs": [
    {
     "data": {
      "text/plain": [
       "(array([12., 19., 14., 19.,  5.,  5.,  6.,  1.,  1.,  1.]),\n",
       " array([-1.77915172, -0.6105815 ,  0.55798872,  1.72655895,  2.89512917,\n",
       "         4.06369939,  5.23226961,  6.40083983,  7.56941005,  8.73798027,\n",
       "         9.90655049]),\n",
       " <a list of 10 Patch objects>)"
      ]
     },
     "execution_count": 26,
     "metadata": {},
     "output_type": "execute_result"
    },
    {
     "data": {
      "image/png": "[encoded data removed]",
      "text/plain": [
       "<Figure size 432x288 with 1 Axes>"
      ]
     },
     "metadata": {
      "needs_background": "light"
     },
     "output_type": "display_data"
    }
   ],
   "source": [
    "plt.hist(spreads)"
   ]
  },
  {
   "cell_type": "code",
   "execution_count": null,
   "metadata": {},
   "outputs": [],
   "source": []
  }
 ],
 "metadata": {
  "kernelspec": {
   "display_name": "Python 3",
   "language": "python",
   "name": "python3"
  },
  "language_info": {
   "codemirror_mode": {
    "name": "ipython",
    "version": 3
   },
   "file_extension": ".py",
   "mimetype": "text/x-python",
   "name": "python",
   "nbconvert_exporter": "python",
   "pygments_lexer": "ipython3",
   "version": "3.6.7"
  }
 },
 "nbformat": 4,
 "nbformat_minor": 2
}
